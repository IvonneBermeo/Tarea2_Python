{
 "cells": [
  {
   "cell_type": "markdown",
   "id": "e79a71f2-0765-48a7-969e-191c2dab2209",
   "metadata": {},
   "source": [
    "### Modulo: Python\n",
    "### Nombre: Ivonne Bermeo"
   ]
  },
  {
   "cell_type": "code",
   "execution_count": null,
   "id": "671ee1fd-049d-4b2c-a296-7881a3cc719c",
   "metadata": {},
   "outputs": [],
   "source": [
    "import numpy as np \n",
    "import pandas as pd"
   ]
  },
  {
   "cell_type": "markdown",
   "id": "b86470ec-4f13-4124-b8fe-941a17cd5f75",
   "metadata": {},
   "source": [
    "Como primera parte se realiza la carga de los datos. En este caso, utilizamos la base de datos \"felicidad.csv\", que se accede a través del siguiente link de github:"
   ]
  },
  {
   "cell_type": "code",
   "execution_count": 48,
   "id": "b7c9160b-2a1e-4e73-8866-71fc7de2a578",
   "metadata": {},
   "outputs": [
    {
     "data": {
      "text/html": [
       "<div>\n",
       "<style scoped>\n",
       "    .dataframe tbody tr th:only-of-type {\n",
       "        vertical-align: middle;\n",
       "    }\n",
       "\n",
       "    .dataframe tbody tr th {\n",
       "        vertical-align: top;\n",
       "    }\n",
       "\n",
       "    .dataframe thead th {\n",
       "        text-align: right;\n",
       "    }\n",
       "</style>\n",
       "<table border=\"1\" class=\"dataframe\">\n",
       "  <thead>\n",
       "    <tr style=\"text-align: right;\">\n",
       "      <th></th>\n",
       "      <th>pais</th>\n",
       "      <th>anio</th>\n",
       "      <th>escalera_vida</th>\n",
       "      <th>log_pib</th>\n",
       "      <th>soporte_social</th>\n",
       "      <th>expectativa_vida</th>\n",
       "      <th>libertad</th>\n",
       "      <th>generosidad</th>\n",
       "      <th>percepcion_corrupcion</th>\n",
       "      <th>afecto_positivo</th>\n",
       "      <th>afecto_negativo</th>\n",
       "      <th>confianza</th>\n",
       "      <th>calidad_democracia</th>\n",
       "      <th>calidad_entrega</th>\n",
       "      <th>de_escalera_pais_anio</th>\n",
       "      <th>gini_banco_mundial</th>\n",
       "      <th>gini_banco_mundial_promedio</th>\n",
       "    </tr>\n",
       "  </thead>\n",
       "  <tbody>\n",
       "    <tr>\n",
       "      <th>0</th>\n",
       "      <td>Afghanistán</td>\n",
       "      <td>2008</td>\n",
       "      <td>3.723590</td>\n",
       "      <td>7.168690</td>\n",
       "      <td>0.450662</td>\n",
       "      <td>50.799999</td>\n",
       "      <td>0.718114</td>\n",
       "      <td>0.177889</td>\n",
       "      <td>0.881686</td>\n",
       "      <td>0.517637</td>\n",
       "      <td>0.258195</td>\n",
       "      <td>0.612072</td>\n",
       "      <td>-1.929690</td>\n",
       "      <td>-1.655084</td>\n",
       "      <td>1.774662</td>\n",
       "      <td>NaN</td>\n",
       "      <td>NaN</td>\n",
       "    </tr>\n",
       "    <tr>\n",
       "      <th>1</th>\n",
       "      <td>Afghanistán</td>\n",
       "      <td>2009</td>\n",
       "      <td>4.401778</td>\n",
       "      <td>7.333790</td>\n",
       "      <td>0.552308</td>\n",
       "      <td>51.200001</td>\n",
       "      <td>0.678896</td>\n",
       "      <td>0.200178</td>\n",
       "      <td>0.850035</td>\n",
       "      <td>0.583926</td>\n",
       "      <td>0.237092</td>\n",
       "      <td>0.611545</td>\n",
       "      <td>-2.044093</td>\n",
       "      <td>-1.635025</td>\n",
       "      <td>1.722688</td>\n",
       "      <td>NaN</td>\n",
       "      <td>NaN</td>\n",
       "    </tr>\n",
       "    <tr>\n",
       "      <th>2</th>\n",
       "      <td>Afghanistán</td>\n",
       "      <td>2010</td>\n",
       "      <td>4.758381</td>\n",
       "      <td>7.386629</td>\n",
       "      <td>0.539075</td>\n",
       "      <td>51.599998</td>\n",
       "      <td>0.600127</td>\n",
       "      <td>0.134353</td>\n",
       "      <td>0.706766</td>\n",
       "      <td>0.618265</td>\n",
       "      <td>0.275324</td>\n",
       "      <td>0.299357</td>\n",
       "      <td>-1.991810</td>\n",
       "      <td>-1.617176</td>\n",
       "      <td>1.878622</td>\n",
       "      <td>NaN</td>\n",
       "      <td>NaN</td>\n",
       "    </tr>\n",
       "    <tr>\n",
       "      <th>3</th>\n",
       "      <td>Afghanistán</td>\n",
       "      <td>2011</td>\n",
       "      <td>3.831719</td>\n",
       "      <td>7.415019</td>\n",
       "      <td>0.521104</td>\n",
       "      <td>51.919998</td>\n",
       "      <td>0.495901</td>\n",
       "      <td>0.172137</td>\n",
       "      <td>0.731109</td>\n",
       "      <td>0.611387</td>\n",
       "      <td>0.267175</td>\n",
       "      <td>0.307386</td>\n",
       "      <td>-1.919018</td>\n",
       "      <td>-1.616221</td>\n",
       "      <td>1.785360</td>\n",
       "      <td>NaN</td>\n",
       "      <td>NaN</td>\n",
       "    </tr>\n",
       "    <tr>\n",
       "      <th>4</th>\n",
       "      <td>Afghanistán</td>\n",
       "      <td>2012</td>\n",
       "      <td>3.782938</td>\n",
       "      <td>7.517126</td>\n",
       "      <td>0.520637</td>\n",
       "      <td>52.240002</td>\n",
       "      <td>0.530935</td>\n",
       "      <td>0.244273</td>\n",
       "      <td>0.775620</td>\n",
       "      <td>0.710385</td>\n",
       "      <td>0.267919</td>\n",
       "      <td>0.435440</td>\n",
       "      <td>-1.842996</td>\n",
       "      <td>-1.404078</td>\n",
       "      <td>1.798283</td>\n",
       "      <td>NaN</td>\n",
       "      <td>NaN</td>\n",
       "    </tr>\n",
       "    <tr>\n",
       "      <th>...</th>\n",
       "      <td>...</td>\n",
       "      <td>...</td>\n",
       "      <td>...</td>\n",
       "      <td>...</td>\n",
       "      <td>...</td>\n",
       "      <td>...</td>\n",
       "      <td>...</td>\n",
       "      <td>...</td>\n",
       "      <td>...</td>\n",
       "      <td>...</td>\n",
       "      <td>...</td>\n",
       "      <td>...</td>\n",
       "      <td>...</td>\n",
       "      <td>...</td>\n",
       "      <td>...</td>\n",
       "      <td>...</td>\n",
       "      <td>...</td>\n",
       "    </tr>\n",
       "    <tr>\n",
       "      <th>1699</th>\n",
       "      <td>Zimbabue</td>\n",
       "      <td>2014</td>\n",
       "      <td>4.184451</td>\n",
       "      <td>7.562753</td>\n",
       "      <td>0.765839</td>\n",
       "      <td>52.380001</td>\n",
       "      <td>0.642034</td>\n",
       "      <td>-0.048634</td>\n",
       "      <td>0.820217</td>\n",
       "      <td>0.725214</td>\n",
       "      <td>0.239111</td>\n",
       "      <td>0.566209</td>\n",
       "      <td>-0.985267</td>\n",
       "      <td>-1.484067</td>\n",
       "      <td>2.079248</td>\n",
       "      <td>NaN</td>\n",
       "      <td>0.432</td>\n",
       "    </tr>\n",
       "    <tr>\n",
       "      <th>1700</th>\n",
       "      <td>Zimbabue</td>\n",
       "      <td>2015</td>\n",
       "      <td>3.703191</td>\n",
       "      <td>7.556052</td>\n",
       "      <td>0.735800</td>\n",
       "      <td>53.799999</td>\n",
       "      <td>0.667193</td>\n",
       "      <td>-0.097354</td>\n",
       "      <td>0.810457</td>\n",
       "      <td>0.715079</td>\n",
       "      <td>0.178861</td>\n",
       "      <td>0.590012</td>\n",
       "      <td>-0.893078</td>\n",
       "      <td>-1.357514</td>\n",
       "      <td>2.198865</td>\n",
       "      <td>NaN</td>\n",
       "      <td>0.432</td>\n",
       "    </tr>\n",
       "    <tr>\n",
       "      <th>1701</th>\n",
       "      <td>Zimbabue</td>\n",
       "      <td>2016</td>\n",
       "      <td>3.735400</td>\n",
       "      <td>7.538829</td>\n",
       "      <td>0.768425</td>\n",
       "      <td>54.400002</td>\n",
       "      <td>0.732971</td>\n",
       "      <td>-0.068105</td>\n",
       "      <td>0.723612</td>\n",
       "      <td>0.737636</td>\n",
       "      <td>0.208555</td>\n",
       "      <td>0.699344</td>\n",
       "      <td>-0.900649</td>\n",
       "      <td>-1.374650</td>\n",
       "      <td>2.776363</td>\n",
       "      <td>NaN</td>\n",
       "      <td>0.432</td>\n",
       "    </tr>\n",
       "    <tr>\n",
       "      <th>1702</th>\n",
       "      <td>Zimbabue</td>\n",
       "      <td>2017</td>\n",
       "      <td>3.638300</td>\n",
       "      <td>7.549491</td>\n",
       "      <td>0.754147</td>\n",
       "      <td>55.000000</td>\n",
       "      <td>0.752826</td>\n",
       "      <td>-0.069670</td>\n",
       "      <td>0.751208</td>\n",
       "      <td>0.806428</td>\n",
       "      <td>0.224051</td>\n",
       "      <td>0.682647</td>\n",
       "      <td>-0.988153</td>\n",
       "      <td>-1.350867</td>\n",
       "      <td>2.656848</td>\n",
       "      <td>NaN</td>\n",
       "      <td>0.432</td>\n",
       "    </tr>\n",
       "    <tr>\n",
       "      <th>1703</th>\n",
       "      <td>Zimbabue</td>\n",
       "      <td>2018</td>\n",
       "      <td>3.616480</td>\n",
       "      <td>7.553395</td>\n",
       "      <td>0.775388</td>\n",
       "      <td>55.599998</td>\n",
       "      <td>0.762675</td>\n",
       "      <td>-0.038384</td>\n",
       "      <td>0.844209</td>\n",
       "      <td>0.710119</td>\n",
       "      <td>0.211726</td>\n",
       "      <td>0.550508</td>\n",
       "      <td>NaN</td>\n",
       "      <td>NaN</td>\n",
       "      <td>2.498696</td>\n",
       "      <td>NaN</td>\n",
       "      <td>0.432</td>\n",
       "    </tr>\n",
       "  </tbody>\n",
       "</table>\n",
       "<p>1704 rows × 17 columns</p>\n",
       "</div>"
      ],
      "text/plain": [
       "             pais  anio  escalera_vida   log_pib  soporte_social  \\\n",
       "0     Afghanistán  2008       3.723590  7.168690        0.450662   \n",
       "1     Afghanistán  2009       4.401778  7.333790        0.552308   \n",
       "2     Afghanistán  2010       4.758381  7.386629        0.539075   \n",
       "3     Afghanistán  2011       3.831719  7.415019        0.521104   \n",
       "4     Afghanistán  2012       3.782938  7.517126        0.520637   \n",
       "...           ...   ...            ...       ...             ...   \n",
       "1699     Zimbabue  2014       4.184451  7.562753        0.765839   \n",
       "1700     Zimbabue  2015       3.703191  7.556052        0.735800   \n",
       "1701     Zimbabue  2016       3.735400  7.538829        0.768425   \n",
       "1702     Zimbabue  2017       3.638300  7.549491        0.754147   \n",
       "1703     Zimbabue  2018       3.616480  7.553395        0.775388   \n",
       "\n",
       "      expectativa_vida  libertad  generosidad  percepcion_corrupcion  \\\n",
       "0            50.799999  0.718114     0.177889               0.881686   \n",
       "1            51.200001  0.678896     0.200178               0.850035   \n",
       "2            51.599998  0.600127     0.134353               0.706766   \n",
       "3            51.919998  0.495901     0.172137               0.731109   \n",
       "4            52.240002  0.530935     0.244273               0.775620   \n",
       "...                ...       ...          ...                    ...   \n",
       "1699         52.380001  0.642034    -0.048634               0.820217   \n",
       "1700         53.799999  0.667193    -0.097354               0.810457   \n",
       "1701         54.400002  0.732971    -0.068105               0.723612   \n",
       "1702         55.000000  0.752826    -0.069670               0.751208   \n",
       "1703         55.599998  0.762675    -0.038384               0.844209   \n",
       "\n",
       "      afecto_positivo  afecto_negativo  confianza  calidad_democracia  \\\n",
       "0            0.517637         0.258195   0.612072           -1.929690   \n",
       "1            0.583926         0.237092   0.611545           -2.044093   \n",
       "2            0.618265         0.275324   0.299357           -1.991810   \n",
       "3            0.611387         0.267175   0.307386           -1.919018   \n",
       "4            0.710385         0.267919   0.435440           -1.842996   \n",
       "...               ...              ...        ...                 ...   \n",
       "1699         0.725214         0.239111   0.566209           -0.985267   \n",
       "1700         0.715079         0.178861   0.590012           -0.893078   \n",
       "1701         0.737636         0.208555   0.699344           -0.900649   \n",
       "1702         0.806428         0.224051   0.682647           -0.988153   \n",
       "1703         0.710119         0.211726   0.550508                 NaN   \n",
       "\n",
       "      calidad_entrega  de_escalera_pais_anio  gini_banco_mundial  \\\n",
       "0           -1.655084               1.774662                 NaN   \n",
       "1           -1.635025               1.722688                 NaN   \n",
       "2           -1.617176               1.878622                 NaN   \n",
       "3           -1.616221               1.785360                 NaN   \n",
       "4           -1.404078               1.798283                 NaN   \n",
       "...               ...                    ...                 ...   \n",
       "1699        -1.484067               2.079248                 NaN   \n",
       "1700        -1.357514               2.198865                 NaN   \n",
       "1701        -1.374650               2.776363                 NaN   \n",
       "1702        -1.350867               2.656848                 NaN   \n",
       "1703              NaN               2.498696                 NaN   \n",
       "\n",
       "      gini_banco_mundial_promedio  \n",
       "0                             NaN  \n",
       "1                             NaN  \n",
       "2                             NaN  \n",
       "3                             NaN  \n",
       "4                             NaN  \n",
       "...                           ...  \n",
       "1699                        0.432  \n",
       "1700                        0.432  \n",
       "1701                        0.432  \n",
       "1702                        0.432  \n",
       "1703                        0.432  \n",
       "\n",
       "[1704 rows x 17 columns]"
      ]
     },
     "execution_count": 48,
     "metadata": {},
     "output_type": "execute_result"
    }
   ],
   "source": [
    "datos=pd.read_csv(\"https://raw.githubusercontent.com/cienciadedatos/datos-de-miercoles/master/datos/2019/2019-08-07/felicidad.csv\")\n",
    "Df_datos =pd.DataFrame(datos)\n",
    "Df_datos"
   ]
  },
  {
   "cell_type": "markdown",
   "id": "101bc044-d7fe-4185-b4a9-cdbf079c6065",
   "metadata": {},
   "source": [
    "Se calcula la media y la desviación estándar a nivel global del primer y último año reportado. Para esto utilizamos la función min() en la columna \"anio\" para obtener el primer año. Luego, utilizamos la función max() en la columna \"anio\" para obtener el último año. Como se muestra en el siguiente código. "
   ]
  },
  {
   "cell_type": "code",
   "execution_count": 71,
   "id": "87eb58b1-a09f-405e-aeb2-734d03d8ac92",
   "metadata": {},
   "outputs": [
    {
     "name": "stdout",
     "output_type": "stream",
     "text": [
      "El primer año es: 2005 , El último año es: 2018\n"
     ]
    }
   ],
   "source": [
    "print(\"El primer año es:\",Df_datos['anio'].min(), \", El último año es:\",Df_datos['anio'].max())\n",
    "datosfelicidad_2005 = Df_datos[(Df_datos['anio'] == 2005)]['escalera_vida']\n",
    "datosfelicidad_2018 = Df_datos[(Df_datos['anio'] == 2018)]['escalera_vida']"
   ]
  },
  {
   "cell_type": "code",
   "execution_count": 167,
   "id": "3ad984df-4b38-45a9-8e07-b86b6ce743dc",
   "metadata": {},
   "outputs": [
    {
     "name": "stdout",
     "output_type": "stream",
     "text": [
      "La media de la felicidad a nivel global el primer año es: 6.446\n",
      "La desviacion estandar de la felicidad en el primer año es: 0.902\n",
      "La media de la felicidad a nivel global en el último año es: 5.502\n",
      "La desviacion estandar de la felicidad en el último año es: 1.099\n"
     ]
    }
   ],
   "source": [
    "print(\"La media de la felicidad a nivel global el primer año es:\",round(np.mean(datosfelicidad_2005),3))\n",
    "print(\"La desviacion estandar de la felicidad en el primer año es:\",round(np.std(datosfelicidad_2005),3))\n",
    "print(\"La media de la felicidad a nivel global en el último año es:\",round(np.mean(datosfelicidad_2018),3))\n",
    "print(\"La desviacion estandar de la felicidad en el último año es:\",round(np.std(datosfelicidad_2018),3))"
   ]
  },
  {
   "cell_type": "code",
   "execution_count": null,
   "id": "319b99c3-2c9c-4b0b-83ec-2b5b5adfa6a4",
   "metadata": {},
   "outputs": [],
   "source": [
    "A continuación, se raliza la comparación de felicidad entre Finlandia y Ecuador del primer y último año reportado. Para esto, \n",
    "primero filtramos los datos por anio y pais (Finlandia) para luego guardar este nuevo data set en una variable. En esta \n",
    "varible calculamos el min() y el max() de la columna \"anio\" para obter el primer y último año reporatdo respectivamente.\n"
   ]
  },
  {
   "cell_type": "code",
   "execution_count": 147,
   "id": "22c389b9-57cd-4825-9a70-56c48a0ac656",
   "metadata": {},
   "outputs": [
    {
     "name": "stdout",
     "output_type": "stream",
     "text": [
      "El primer año reportado en Finlandia es: 2006 , El último año reportado en Finlandia es: 2018\n"
     ]
    }
   ],
   "source": [
    "AnioF=Df_datos[['anio']][Df_datos['pais'] == 'Finlandia']\n",
    "print(\"El primer año reportado en Finlandia es:\", AnioF['anio'].min(),\", El último año reportado en Finlandia es:\",AnioF['anio'].max())"
   ]
  },
  {
   "cell_type": "code",
   "execution_count": 165,
   "id": "c309577c-3468-49d8-9f38-0589aab4d011",
   "metadata": {},
   "outputs": [],
   "source": [
    "FelicidadFinlandia_2006=Df_datos[(Df_datos['anio']==2006)&(Df_datos['pais'] == 'Finlandia')]['escalera_vida']\n",
    "FelicidadFinlandia_2018=Df_datos[(Df_datos['anio']==2018)&(Df_datos['pais'] == 'Finlandia')]['escalera_vida']"
   ]
  },
  {
   "cell_type": "code",
   "execution_count": 166,
   "id": "42008c53-4bf5-440c-8cb8-1fb7b174bc46",
   "metadata": {},
   "outputs": [
    {
     "name": "stdout",
     "output_type": "stream",
     "text": [
      "La felicidad en Finlandia en el año 2006 es: 7.672449111938477\n",
      "La felicidad en Finlandia en el año 2018 es: 7.858107089996338\n"
     ]
    }
   ],
   "source": [
    "print(\"La felicidad en Finlandia en el año 2006 es:\",FelicidadFinlandia_2006.iloc[0])\n",
    "print(\"La felicidad en Finlandia en el año 2018 es:\",FelicidadFinlandia_2018.iloc[0])"
   ]
  },
  {
   "cell_type": "code",
   "execution_count": null,
   "id": "6a668907-1fb2-47c8-bb35-50fb6630645c",
   "metadata": {},
   "outputs": [],
   "source": [
    "Se realiza el mismo proceso aplicado anteriormente para obtener el primer y último año reportado para Ecuador."
   ]
  },
  {
   "cell_type": "code",
   "execution_count": 148,
   "id": "dac6ea6e-2865-48a0-aae1-a222203573e0",
   "metadata": {},
   "outputs": [
    {
     "name": "stdout",
     "output_type": "stream",
     "text": [
      "El primer año reportado en Ecuador es: 2006 , El último año reportado en Ecuador es: 2018\n"
     ]
    }
   ],
   "source": [
    "AnioE=Df_datos[['anio']][Df_datos['pais'] == 'Ecuador']\n",
    "print(\"El primer año reportado en Ecuador es:\", AnioE['anio'].min(),\", El último año reportado en Ecuador es:\",AnioE['anio'].max())"
   ]
  },
  {
   "cell_type": "code",
   "execution_count": 149,
   "id": "534fa4f2-a269-44ab-9330-be5eb4686333",
   "metadata": {},
   "outputs": [],
   "source": [
    "FelicidadEcuador_2006=Df_datos[(Df_datos['anio']==2006)&(Df_datos['pais'] == 'Ecuador')]['escalera_vida']\n",
    "FelicidadEcuador_2018=Df_datos[(Df_datos['anio']==2018)&(Df_datos['pais'] == 'Ecuador')]['escalera_vida']"
   ]
  },
  {
   "cell_type": "code",
   "execution_count": 150,
   "id": "5a0a6abb-1afd-461d-9775-d0a6150cb2a9",
   "metadata": {},
   "outputs": [
    {
     "name": "stdout",
     "output_type": "stream",
     "text": [
      "La felicidad en Ecuador en el año 2006 es: 5.024191379547119\n",
      "La felicidad en Ecuador en el año 2018 es: 6.128010272979736\n"
     ]
    }
   ],
   "source": [
    "print(\"La felicidad en Ecuador en el año 2006 es:\",FelicidadEcuador_2006.iloc[0])\n",
    "print(\"La felicidad en Ecuador en el año 2018 es:\",FelicidadEcuador_2018.iloc[0])"
   ]
  },
  {
   "cell_type": "code",
   "execution_count": null,
   "id": "4bb7ed37-2666-445d-93ec-e25dcb0ade0c",
   "metadata": {},
   "outputs": [],
   "source": [
    "Podemos concluir que:\n",
    "- Finlandia superó la media de felicidad el primer año reportado a comparación con el promedio a nivel \n",
    "  global. Siendo que, el promedio el primer año a nivel global fue de 6.446 y el de Finlandia de 7.672. \n",
    "\n",
    "- Ecuador no superó la media de Felicidad el primer año reportado a comparación con el promedio a nivel \n",
    "  global. Siendo que, el promedio el primer año a nivel global fue de 6.446 y el de Ecuador de 5.024.\n",
    "\n",
    "- Finlandia superó la media de felicidad el último año reportado a comparación con el promedio a nivel \n",
    "  global. Siendo que, el promedio del último año a nivel global fue de 5.5 y el de Finlandia de 7.858. \n",
    "    \n",
    "- Ecuador superó la media de Felicidad el último año reportado a comparación con el promedio a nivel \n",
    "  global. Siendo que, el promedio del último año a nivel global fue de 5.5 y el de Ecuador de 6.128.\n",
    "    \n",
    "\n"
   ]
  },
  {
   "cell_type": "code",
   "execution_count": null,
   "id": "060b7710-136e-404f-842f-df036ca38503",
   "metadata": {},
   "outputs": [],
   "source": []
  }
 ],
 "metadata": {
  "kernelspec": {
   "display_name": "Python 3 (ipykernel)",
   "language": "python",
   "name": "python3"
  },
  "language_info": {
   "codemirror_mode": {
    "name": "ipython",
    "version": 3
   },
   "file_extension": ".py",
   "mimetype": "text/x-python",
   "name": "python",
   "nbconvert_exporter": "python",
   "pygments_lexer": "ipython3",
   "version": "3.11.5"
  }
 },
 "nbformat": 4,
 "nbformat_minor": 5
}
